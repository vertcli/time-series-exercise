{
 "cells": [
  {
   "cell_type": "code",
   "execution_count": null,
   "metadata": {},
   "outputs": [],
   "source": [
    "import sys\n",
    "import json\n",
    "import build_model\n",
    "import data_helper\n",
    "import numpy as np\n",
    "import pandas as pd\n",
    "import matplotlib.pyplot as plt\n",
    "%matplotlib inline"
   ]
  },
  {
   "cell_type": "code",
   "execution_count": null,
   "metadata": {},
   "outputs": [],
   "source": [
    "def train_predict(train_file,parameter_file):\n",
    "    \"\"\"Train and predict time series data\"\"\"\n",
    "\n",
    "    # Load training parameters\n",
    "    params = json.loads(open(parameter_file).read())\n",
    "\n",
    "    # Load time series dataset, and split it into train and test\n",
    "    x_train, y_train, x_test, y_test, x_test_raw, y_test_raw,\\\n",
    "        last_window_raw, last_window = data_helper.load_timeseries(train_file, params)\n",
    "\n",
    "    # Build RNN (LSTM) model\n",
    "    lstm_layer = [1, params['window_size'], params['hidden_unit'], 1]\n",
    "    model = build_model.rnn_lstm(lstm_layer, params)\n",
    "\n",
    "    # Train RNN (LSTM) model with train set\n",
    "    model.fit(\n",
    "        x_train,\n",
    "        y_train,\n",
    "        batch_size=params['batch_size'],\n",
    "        epochs=params['epochs'],\n",
    "        validation_split=params['validation_split'])\n",
    "\n",
    "    # Check the model against test set\n",
    "    predicted = build_model.predict_next_timestamp(model, x_test)        \n",
    "    predicted_raw = []\n",
    "    for i in range(len(x_test_raw)):\n",
    "        predicted_raw.append((predicted[i] + 1) * x_test_raw[i][0])\n",
    "\n",
    "    # Plot graph: predicted VS actual\n",
    "    plt.figure(figsize=[20,20])\n",
    "    plt.subplot(111)\n",
    "    plt.plot(predicted_raw, label='Actual')\n",
    "    plt.plot(y_test_raw, label='Predicted')\t\n",
    "    plt.legend()\n",
    "    plt.show()\n",
    "\n",
    "    # Predict next time stamp \n",
    "    next_timestamp = build_model.predict_next_timestamp(model, last_window)\n",
    "    next_timestamp_raw = (next_timestamp[0] + 1) * last_window_raw[0][0]\n",
    "    print('The next time stamp forecasting is: {}'.format(next_timestamp_raw))"
   ]
  },
  {
   "cell_type": "code",
   "execution_count": null,
   "metadata": {},
   "outputs": [],
   "source": [
    "train_predict('./data/sales.csv','./training_config_sales.json')"
   ]
  },
  {
   "cell_type": "code",
   "execution_count": null,
   "metadata": {},
   "outputs": [],
   "source": [
    "train_predict('./data/daily-minimum-temperatures-in-me.csv','./training_config_temperature.json')"
   ]
  },
  {
   "cell_type": "code",
   "execution_count": null,
   "metadata": {},
   "outputs": [],
   "source": []
  }
 ],
 "metadata": {
  "kernelspec": {
   "display_name": "Python 3",
   "language": "python",
   "name": "python3"
  },
  "language_info": {
   "codemirror_mode": {
    "name": "ipython",
    "version": 3
   },
   "file_extension": ".py",
   "mimetype": "text/x-python",
   "name": "python",
   "nbconvert_exporter": "python",
   "pygments_lexer": "ipython3",
   "version": "3.6.4"
  }
 },
 "nbformat": 4,
 "nbformat_minor": 2
}
